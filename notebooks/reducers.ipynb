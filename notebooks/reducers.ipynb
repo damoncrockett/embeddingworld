{
 "cells": [
  {
   "cell_type": "code",
   "execution_count": 1,
   "id": "701fa771",
   "metadata": {},
   "outputs": [],
   "source": [
    "from sentence_transformers import SentenceTransformer\n",
    "model = SentenceTransformer(\"all-MiniLM-L6-v2\")"
   ]
  },
  {
   "cell_type": "code",
   "execution_count": 2,
   "id": "5e55a5a2-2f7e-4075-b649-7023e5dddf6d",
   "metadata": {},
   "outputs": [],
   "source": [
    "import json"
   ]
  },
  {
   "cell_type": "code",
   "execution_count": 3,
   "id": "95d33603-8c76-4cde-b7be-912109db7f01",
   "metadata": {},
   "outputs": [],
   "source": [
    "DIR = \"/Users/damoncrockett/embeddingworld/src/assets/json/\""
   ]
  },
  {
   "cell_type": "code",
   "execution_count": 4,
   "id": "f5e9dd7d-43ce-4854-b039-326de07f3811",
   "metadata": {},
   "outputs": [],
   "source": [
    "import glob, os"
   ]
  },
  {
   "cell_type": "code",
   "execution_count": 5,
   "id": "ac86caa7-5490-4932-9d33-0c000617a9e0",
   "metadata": {},
   "outputs": [],
   "source": [
    "allbases = glob.glob(os.path.join(DIR,\"*.json\"))"
   ]
  },
  {
   "cell_type": "code",
   "execution_count": 6,
   "id": "8c562290-6db9-49e9-af00-4657d60ea294",
   "metadata": {},
   "outputs": [],
   "source": [
    "allwords = []\n",
    "for allbase in allbases:\n",
    "    with open(allbase, 'r') as f:\n",
    "        data = json.load(f)\n",
    "    for item in data:\n",
    "        allwords.append(item)"
   ]
  },
  {
   "cell_type": "code",
   "execution_count": 7,
   "id": "95de2de5-0ed8-4cc8-aea0-0150a1320ee4",
   "metadata": {},
   "outputs": [],
   "source": [
    "# Sentences are encoded by calling model.encode()\n",
    "embeddings = model.encode(allwords)"
   ]
  },
  {
   "cell_type": "code",
   "execution_count": 21,
   "id": "774ca337-d702-4af0-8db9-dffd91c6a898",
   "metadata": {},
   "outputs": [],
   "source": [
    "with open('/Users/damoncrockett/embeddingworld/src/assets/txt/mit10000.txt', 'r') as f:\n",
    "    t = f.read()"
   ]
  },
  {
   "cell_type": "code",
   "execution_count": 24,
   "id": "2475f614-b86b-40eb-8905-2baf9e5ab598",
   "metadata": {},
   "outputs": [],
   "source": [
    "mitwords = t.split(\"\\n\")"
   ]
  },
  {
   "cell_type": "code",
   "execution_count": 25,
   "id": "2ad28bf4-d7b3-463d-840b-af4dc696e766",
   "metadata": {},
   "outputs": [],
   "source": [
    "mitemb = model.encode(mitwords)"
   ]
  },
  {
   "cell_type": "code",
   "execution_count": 27,
   "id": "7b5f77b3-72a1-4bb2-acc7-b361362b4e16",
   "metadata": {},
   "outputs": [],
   "source": [
    "import sys"
   ]
  },
  {
   "cell_type": "code",
   "execution_count": 28,
   "id": "4f59b04c-2b7d-4bae-a399-5983217b188f",
   "metadata": {},
   "outputs": [],
   "source": [
    "sys.path.append(\"/Users/damoncrockett/ivpy/src\")\n",
    "from ivpy import *\n",
    "from ivpy.reduce import pca, umap"
   ]
  },
  {
   "cell_type": "code",
   "execution_count": 29,
   "id": "9b94d898-7134-4996-8cc6-464bbb88da84",
   "metadata": {},
   "outputs": [],
   "source": [
    "from PIL import Image, ImageDraw, ImageFont"
   ]
  },
  {
   "cell_type": "code",
   "execution_count": 30,
   "id": "cc9aacc2-2811-4725-9e58-10cb6d8af321",
   "metadata": {},
   "outputs": [],
   "source": [
    "def text_to_transparent_image(text, font_path=\"/Users/damoncrockett/fonts/Roboto-Regular.ttf\", font_size=18):\n",
    "    # Load the font\n",
    "    font = ImageFont.truetype(font_path, font_size)\n",
    "    \n",
    "    # Determine text size\n",
    "    text_width, text_height = font.getsize(text)\n",
    "    \n",
    "    # Create a transparent image\n",
    "    image = Image.new(\"RGBA\", (text_width, text_height), (255, 255, 255, 0))\n",
    "    \n",
    "    # Initialize the drawing context\n",
    "    draw = ImageDraw.Draw(image)\n",
    "    \n",
    "    # Position the text at the center\n",
    "    text_x = (image.width - text_width) / 2\n",
    "    text_y = (image.height - text_height) / 2\n",
    "    \n",
    "    # Draw the text\n",
    "    draw.text((text_x, text_y), text, fill=\"black\", font=font)\n",
    "    \n",
    "    return image"
   ]
  },
  {
   "cell_type": "code",
   "execution_count": 12,
   "id": "b3337bf2-0d55-4136-b836-8fce8df32f82",
   "metadata": {},
   "outputs": [
    {
     "name": "stderr",
     "output_type": "stream",
     "text": [
      "/var/folders/97/0tnv1p_n42gdsh_1ksz88qnm0000gn/T/ipykernel_47816/852639176.py:6: DeprecationWarning: getsize is deprecated and will be removed in Pillow 10 (2023-07-01). Use getbbox or getlength instead.\n",
      "  text_width, text_height = font.getsize(text)\n"
     ]
    }
   ],
   "source": [
    "wordims = []\n",
    "for allword in allwords:\n",
    "    wordims.append(text_to_transparent_image(allword))"
   ]
  },
  {
   "cell_type": "code",
   "execution_count": 31,
   "id": "defb8093-cd28-4448-95b7-4d72d5a2270b",
   "metadata": {},
   "outputs": [
    {
     "name": "stderr",
     "output_type": "stream",
     "text": [
      "/var/folders/97/0tnv1p_n42gdsh_1ksz88qnm0000gn/T/ipykernel_47816/852639176.py:6: DeprecationWarning: getsize is deprecated and will be removed in Pillow 10 (2023-07-01). Use getbbox or getlength instead.\n",
      "  text_width, text_height = font.getsize(text)\n"
     ]
    }
   ],
   "source": [
    "mitwordims = []\n",
    "for mitword in mitwords:\n",
    "    mitwordims.append(text_to_transparent_image(mitword))"
   ]
  },
  {
   "cell_type": "code",
   "execution_count": 32,
   "id": "92ed2738-8993-4b41-b7fa-caab8c5ecbd0",
   "metadata": {},
   "outputs": [],
   "source": [
    "import pandas as pd"
   ]
  },
  {
   "cell_type": "code",
   "execution_count": 45,
   "id": "cae3300c-af6d-42c1-93e2-605826e1bfd6",
   "metadata": {},
   "outputs": [],
   "source": [
    "df = pd.DataFrame({\"img\":wordims})"
   ]
  },
  {
   "cell_type": "code",
   "execution_count": 46,
   "id": "f68744e9-627b-459f-9545-04b1632305c3",
   "metadata": {},
   "outputs": [],
   "source": [
    "X = pd.DataFrame(embeddings)"
   ]
  },
  {
   "cell_type": "code",
   "execution_count": 52,
   "id": "c64c1e28-f421-4bbf-814e-9216fb6425d2",
   "metadata": {},
   "outputs": [],
   "source": [
    "df[['x','y']] = pca(X,n_components=2)"
   ]
  },
  {
   "cell_type": "code",
   "execution_count": 53,
   "id": "6021305b-d864-40e5-b5da-2a84d9fdf308",
   "metadata": {},
   "outputs": [],
   "source": [
    "attach(df,'img')"
   ]
  },
  {
   "cell_type": "code",
   "execution_count": 54,
   "id": "9da74108-97c0-41d1-a270-5f38c7ac5140",
   "metadata": {},
   "outputs": [],
   "source": [
    "scatter('x','y',side=1000,bg='white',thumb=256).save(\"pca.jpg\")"
   ]
  },
  {
   "cell_type": "code",
   "execution_count": 56,
   "id": "2e5b521b-7d9f-43c0-8f5b-f80e46673831",
   "metadata": {},
   "outputs": [],
   "source": [
    "df['t'] = allwords"
   ]
  },
  {
   "cell_type": "code",
   "execution_count": null,
   "id": "5d153c7a-ad53-428f-aafb-a01aadcbbb31",
   "metadata": {},
   "outputs": [],
   "source": []
  }
 ],
 "metadata": {
  "kernelspec": {
   "display_name": "Python 3 (ipykernel)",
   "language": "python",
   "name": "python3"
  },
  "language_info": {
   "codemirror_mode": {
    "name": "ipython",
    "version": 3
   },
   "file_extension": ".py",
   "mimetype": "text/x-python",
   "name": "python",
   "nbconvert_exporter": "python",
   "pygments_lexer": "ipython3",
   "version": "3.10.4"
  }
 },
 "nbformat": 4,
 "nbformat_minor": 5
}
